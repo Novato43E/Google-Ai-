{
  "nbformat": 4,
  "nbformat_minor": 0,
  "metadata": {
    "colab": {
      "provenance": [],
      "authorship_tag": "ABX9TyP9J7NAfciyhmhfiR9Yz/pa",
      "include_colab_link": true
    },
    "kernelspec": {
      "name": "python3",
      "display_name": "Python 3"
    },
    "language_info": {
      "name": "python"
    }
  },
  "cells": [
    {
      "cell_type": "markdown",
      "metadata": {
        "id": "view-in-github",
        "colab_type": "text"
      },
      "source": [
        "<a href=\"https://colab.research.google.com/github/Novato43E/Google-Ai-/blob/main/T%C3%ADtulos_em_rela%C3%A7%C3%A3o_de_textos.ipynb\" target=\"_parent\"><img src=\"https://colab.research.google.com/assets/colab-badge.svg\" alt=\"Open In Colab\"/></a>"
      ]
    },
    {
      "cell_type": "code",
      "execution_count": 3,
      "metadata": {
        "colab": {
          "base_uri": "https://localhost:8080/",
          "height": 146
        },
        "id": "SOGvvnS6vtEI",
        "outputId": "af319bc3-2ed8-4bfa-d757-8e07a399700a"
      },
      "outputs": [
        {
          "output_type": "stream",
          "name": "stdout",
          "text": [
            "## Título: Persona 3 Reload: a Melancolia da Realização e o Poder dos Laços Sociais \n",
            "\n",
            "O texto explora como jogos com elementos sociais, especialmente cozy games, têm ganhado destaque no mundo gamer. O autor cita exemplos de sucesso como Stardew Valley e Animal Crossing, e utiliza a franquia Persona para aprofundar a análise. Persona, um JRPG da Atlus, é conhecido por sua rica interação social dentro do universo estudantil. \n",
            "\n",
            "A partir da experiência pessoal com Persona 3 Reload, o autor destaca a melancolia intrínseca à realização de objetivos e como o jogo explora essa temática. O foco do texto reside na exploração do poder dos laços sociais dentro dos games e como Persona 3 Reload proporciona uma experiência emocionante e impactante através desse elemento. \n",
            "\n"
          ]
        }
      ],
      "source": [
        "\"\"\"\n",
        "At the command line, only need to run once to install the package via pip:\n",
        "\n",
        "$ pip install google-generativeai\n",
        "\"\"\"\n",
        "\n",
        "import google.generativeai as genai\n",
        "\n",
        "genai.configure(api_key=\"YOUR_API_KEY\")\n",
        "\n",
        "# Set up the model\n",
        "generation_config = {\n",
        "  \"temperature\": 1,\n",
        "  \"top_p\": 0.95,\n",
        "  \"top_k\": 0,\n",
        "  \"max_output_tokens\": 8192,\n",
        "}\n",
        "\n",
        "safety_settings = [\n",
        "  {\n",
        "    \"category\": \"HARM_CATEGORY_HARASSMENT\",\n",
        "    \"threshold\": \"BLOCK_MEDIUM_AND_ABOVE\"\n",
        "  },\n",
        "  {\n",
        "    \"category\": \"HARM_CATEGORY_HATE_SPEECH\",\n",
        "    \"threshold\": \"BLOCK_MEDIUM_AND_ABOVE\"\n",
        "  },\n",
        "  {\n",
        "    \"category\": \"HARM_CATEGORY_SEXUALLY_EXPLICIT\",\n",
        "    \"threshold\": \"BLOCK_MEDIUM_AND_ABOVE\"\n",
        "  },\n",
        "  {\n",
        "    \"category\": \"HARM_CATEGORY_DANGEROUS_CONTENT\",\n",
        "    \"threshold\": \"BLOCK_MEDIUM_AND_ABOVE\"\n",
        "  },\n",
        "]\n",
        "\n",
        "model = genai.GenerativeModel(model_name=\"gemini-1.5-pro-latest\",\n",
        "                              generation_config=generation_config,\n",
        "                              safety_settings=safety_settings)\n",
        "\n",
        "convo = model.start_chat(history=[\n",
        "  {\n",
        "    \"role\": \"user\",\n",
        "    \"parts\": [\"Irei lhe passar os 10 títulos e textos para você entender o padrão:\\n\\nTítulo: Nem RE2 Remake, nem RE4: este polêmico jogo foi o responsável por alavancar as vendas da franquia Resident Evil\\n\\nTexto: Resident Evil é uma das franquias mais tradicionais dos jogos e, recentemente, a série de games de terror de sobrevivência tem ganhado ainda mais popularidade do que teve no final dos anos 90 e início dos anos 2000. A Capcom revelou os números de vendas de seus jogos e somente a franquia RE vendeu 151 milhões de unidades em toda a história, contudo, 82 milhões dessas unidades, equivalente a 53% das cópias foram vendidas após o lançamento de Resident Evil 7: Biohazard em 2017.\\n\\n-----\\n\\nTítulo: Homelander ganha primeiro trailer em Mortal Kombat 1\\n\\nTexto: Depois de uma longa espera dos fãs, o personagem Homelander, da série The Boys, finalmente ganhou seu primeiro teaser de gameplay em Mortal Kombat 1. Um dos três personagens convidados do primeiro passe de temporada do jogo, Homelander ainda não teve seu trailer completado de gameplay ou data de lançamento revelados, mas pela primeira vez tivemos um vislumbre de uma de suas comemorações pós-vitória, em que ele mostra toda sua paixão por leite, e de um de seus fatalities, no qual ele usa o raio laser de seus olhos para simplesmente arrancar a cabeça de Liu Kang.\\n\\n-----\\n\\nTítulo: Todos os Vaults de Fallout são experimentos cruéis, mas nenhum é mais do que o Vault 11\\n\\nTexto: Alguém poderia pensar que no futuro pós-apocalíptico de Fallout, Wasteland seria o lugar mais perigoso para se viver. No entanto, os abrigos da Vault-Tec podem ser muito mais perigosos, crueis e bizarros que o mundo lá fora, principalmente se tomarmos como exemplo os experimentos malucos realizados pela empresa no Vault 69. Mas, na verdade, nada feito em nenhum outro abrigo foi tão sinistro quanto o que ocorreu atrás das portas do Vault 11.\\n\\n-----\\n\\nTítulo: Corte devastador: Microsoft fecha estúdios subsidiários da Bethesda responsáveis por Redfall, Hi-Fi Rush e outros games\\n\\nTexto: A Microsoft fechou vários estúdios da Bethesda, incluindo a desenvolvedora de Redfall, Arkane Austin, Tango Gameworks, estúdio responsável por The Evil Within e Hi-Fi Rush e mais cortes devastadores, o IGN confirma.Alpha Dog Games, produtora do jogo para celular Mighty Doom, também será fechada. A Roundhouse Games será absorvida pela ZeniMax Online Studios, desenvolvedora de The Elder Scrolls Online. A Microsoft não informou quantos funcionários perderão seus empregos. IGN pediu comentários à Bethesda e à Microsoft.\\n\\n-----\\n\\nTítulo: Mais uma tentativa! Resident Evil terá filme de alto orçamento lançado nos cinemas, diz site\\n\\nTexto: Resident Evil é uma das franquias de maior sucesso da história dos games, com mais de 154 milhões de cópias vendidas desde o lançamento do primeiro título, em 1996 para o PlayStation 1. Nos cinemas, mesmo com muitas produções bastante detonadas pela crítica especializada, a série de filmes protagonizada por Milla Jovovich sempre se mostrou bastante lucrativa. Os seis filmes produzidos por Paul W.S. Anderson tiveram, somados um orçamento de menos de US$ 300 milhões e renderam mais de US$ 1,2 bilhão em bilheteria.\\n\\n-----\\n\\nTìtulo: Caos sem fim: após polêmica de contas, Helldivers 2 é removido do Steam em mais de 150 países\\n\\nTexto: Helldivers 2, grande sucesso inesperado lançado em fevereiro de 2024, se vê no meio de uma grande polêmica desde uma movimentação relacionada à versão PC do shooter em terceira pessoa. A Sony Entertainment, publisher do game, anunciou que os jogadores do Steam terão que conectar suas contas da plataforma da Valve a uma conta da PSN a partir de 6 de maio para continuar jogando. A informação iniciou uma revolta entre os usuários, com reações que vão desde pedir reembolso até a bombardear o título com avaliações negativas.\\n\\n-----\\n\\nTítulo: Resident Evil 9 tem possível data de lançamento definida, segundo famoso leaker\\n\\nTexto: Dusk Golem, um leaker com uma ótima reputação quanto aos seus vazamentos sobre a franquia Resident Evil, disse que Resident Evil 9, possível próximo lançamento da série de terror de sobrevivência, pode chegar em janeiro de 2025.\\n\\n-----\\n\\nTítulo: Chega de sofrer tentando jogar com os amigos, nova maneira de convidar jogadores do PS5 é muito mais rápida e prática; confira como fazer\\n\\nTexto: Às vezes jogar online com outros jogadores no PlayStation pode ser uma tarefa um pouco difícil, mesmo que vocês sejam amigos na PlayStation Network. No entanto, tudo ficará mais fácil para os jogadores de PS5 com a nova atualização de sistema do console. Nos próximos meses será possível convidar outros jogadores para sessões multiplayer via link compartilhável no PS5 ou no aplicativo da PlayStation.\\n\\n------\\n\\nTítulo: Final Fantasy 7 Rebirth é o quarto jogo mais vendido de 2024 nos EUA, aponta relatório\\n\\nTexto: Lançado há pouco mais de 2 meses, Final Fantasy VII Rebirth é um dos grandes jogos de 2024 e um forte candidato ao prêmio de Jogo do Ano, mas a Square Enix até hoje não revelou as vendas totais do jogo em seu período de lançamento, quebrando uma tradição a respeito de títulos recentes. Final Fantasy XV, lançado em novembro de 2016, vendeu 5 milhões de cópias em apenas 24 horas mesmo sendo um exclusivo temporário de PlayStation 4, que àquela altura tinha apenas 3 anos de mercado, enquanto Final Fantasy XVI, lançado em junho 2023 somente para PlayStation 5, vendeu 3 milhões de cópias em sua primeira semana.\\n\\n------\\n\\nTítulo: Mesmo sendo um exclusivo da Sony, Horizon Zero Dawn será retirado da PS Plus Extra\\n\\nTexto: A Sony Interactive Entertainment publicou um aviso na página de Horizon Zero Dawn: Complete Edition na PlayStation destacando que o título da Guerrilla Games será retirado em 21 de maio do catálogo da PS Plus Extra, serviço de assinatura de jogos PlayStation concorrente do Game Pass. A informação foi compartilhada pelo insider Wario64, que notou o aviso de retirada de Horizon do catálogo da PS Plus Extra dentro de poucas semanas.\\n\\n------\\n\\nAgora, irei adicionar mais um texto e quero que você crie um título único para essa notícia presente:\\n\\nTexto: Jogos eletrônicos com a presença de elementos sociais têm ganhado cada vez mais destaque, muito graças à onda de cozy games que estamos vendo no mundo gamer. Obras como Stardew Valley, Animal Crossing e Spiritfarer mostram muito do que o gênero social sim (simulador social) traz em si. Outra franquia clássica e icônica dos jogos que faz uso dessa jogabilidade de forma excelente é Persona. A série de JRPG da Atlus é bastante conhecida pelos elementos sociais que compõem uma aventura estudantil. No game, podemos ter diversas interações com colegas da escola, do trabalho de meio período e, principalmente, com os companheiros da nossa party. Neste artigo irei focar em Persona 3 Reload, título mais recente da franquia e que me proporcionou uma das experiências mais emocionantes e impactantes que já tive nos jogos e que me mostrou a melancolia por trás da realização de um objetivo. \\n\\nTítulo:\"]\n",
        "  },\n",
        "  {\n",
        "    \"role\": \"model\",\n",
        "    \"parts\": [\"## Título: Além dos RPGs: Persona 3 Reload e o Poder dos Laços Sociais nos Videogames\"]\n",
        "  },\n",
        "])\n",
        "\n",
        "convo.send_message(\"Qual seria o título adequado? Me traga um resumo do texto\")\n",
        "print(convo.last.text)"
      ]
    }
  ]
}